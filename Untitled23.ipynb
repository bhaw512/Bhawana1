{
 "cells": [
  {
   "cell_type": "markdown",
   "metadata": {},
   "source": [
    "Electrostatic force between the charges.\n",
    "The coulemb's force between two charges q1 and q2 separated at distance r is given as; F=kq1q2/r^2, where k=9*10^9NM^2/C^2\n",
    "write a code for function to calculate the coulemb's force between two given distance.Use list to calculate the variation of coulemb's force between two charges placed at a range.Make a plot that shows the variations of coulemb's force with distance using list. \n",
    "let the two charges be q1=3C and q2=5C"
   ]
  },
  {
   "cell_type": "code",
   "execution_count": 3,
   "metadata": {},
   "outputs": [],
   "source": [
    "k=9*10**9\n",
    "def force (r,q1,q2): #function to calculate coulemb's force\n",
    "    return k*q1*q2/(r**2)"
   ]
  },
  {
   "cell_type": "code",
   "execution_count": 4,
   "metadata": {},
   "outputs": [],
   "source": [
    "#Range of disatances\n",
    "F=[]\n",
    "R=[]\n",
    "q1=3\n",
    "q2=5\n",
    "for r in range(1,50):\n",
    "    F.append(force(r,q1,q2))\n",
    "    R.append(r)"
   ]
  },
  {
   "cell_type": "code",
   "execution_count": 5,
   "metadata": {},
   "outputs": [
    {
     "data": {
      "text/plain": [
       "[<matplotlib.lines.Line2D at 0x702f418>]"
      ]
     },
     "execution_count": 5,
     "metadata": {},
     "output_type": "execute_result"
    },
    {
     "data": {
      "image/png": "[encoded data removed]",
      "text/plain": [
       "<Figure size 432x288 with 1 Axes>"
      ]
     },
     "metadata": {
      "needs_background": "light"
     },
     "output_type": "display_data"
    }
   ],
   "source": [
    "#plot of the range of distances vs corresponding force\n",
    "import matplotlib.pyplot as plt\n",
    "%matplotlib inline\n",
    "plt.plot(R,F)"
   ]
  },
  {
   "cell_type": "code",
   "execution_count": null,
   "metadata": {},
   "outputs": [],
   "source": []
  },
  {
   "cell_type": "code",
   "execution_count": null,
   "metadata": {},
   "outputs": [],
   "source": []
  }
 ],
 "metadata": {
  "kernelspec": {
   "display_name": "Python 3",
   "language": "python",
   "name": "python3"
  },
  "language_info": {
   "codemirror_mode": {
    "name": "ipython",
    "version": 3
   },
   "file_extension": ".py",
   "mimetype": "text/x-python",
   "name": "python",
   "nbconvert_exporter": "python",
   "pygments_lexer": "ipython3",
   "version": "3.8.3"
  }
 },
 "nbformat": 4,
 "nbformat_minor": 4
}
